{
 "cells": [
  {
   "cell_type": "code",
   "execution_count": 6,
   "id": "f45a244c-d4a2-4027-8bca-dca5551670bd",
   "metadata": {},
   "outputs": [],
   "source": [
    "import sys\n",
    "import os\n",
    "sys.path.append(os.path.abspath('../src'))\n",
    "from utils.cleaning import convert_money, convert_employees\n",
    "import pandas as pd\n",
    "\n",
    "\n",
    "\n"
   ]
  },
  {
   "cell_type": "code",
   "execution_count": 7,
   "id": "a79926bc-ba3a-47bb-b359-5e5ffe9b4fd5",
   "metadata": {},
   "outputs": [
    {
     "data": {
      "text/html": [
       "<div>\n",
       "<style scoped>\n",
       "    .dataframe tbody tr th:only-of-type {\n",
       "        vertical-align: middle;\n",
       "    }\n",
       "\n",
       "    .dataframe tbody tr th {\n",
       "        vertical-align: top;\n",
       "    }\n",
       "\n",
       "    .dataframe thead th {\n",
       "        text-align: right;\n",
       "    }\n",
       "</style>\n",
       "<table border=\"1\" class=\"dataframe\">\n",
       "  <thead>\n",
       "    <tr style=\"text-align: right;\">\n",
       "      <th></th>\n",
       "      <th>Company Name</th>\n",
       "      <th>Founded Year</th>\n",
       "      <th>HQ</th>\n",
       "      <th>Industry</th>\n",
       "      <th>Total Funding</th>\n",
       "      <th>ARR</th>\n",
       "      <th>Valuation</th>\n",
       "      <th>Employees</th>\n",
       "      <th>Top Investors</th>\n",
       "      <th>Product</th>\n",
       "      <th>G2 Rating</th>\n",
       "    </tr>\n",
       "  </thead>\n",
       "  <tbody>\n",
       "    <tr>\n",
       "      <th>0</th>\n",
       "      <td>Microsoft</td>\n",
       "      <td>1975</td>\n",
       "      <td>Redmond, WA, USA</td>\n",
       "      <td>Enterprise Software</td>\n",
       "      <td>$1B</td>\n",
       "      <td>$270B</td>\n",
       "      <td>$3T</td>\n",
       "      <td>221,000</td>\n",
       "      <td>Bill Gates, Paul Allen</td>\n",
       "      <td>Azure, Office 365, Teams</td>\n",
       "      <td>4.4</td>\n",
       "    </tr>\n",
       "    <tr>\n",
       "      <th>1</th>\n",
       "      <td>Salesforce</td>\n",
       "      <td>1999</td>\n",
       "      <td>San Francisco, CA, USA</td>\n",
       "      <td>CRM</td>\n",
       "      <td>$65.4M</td>\n",
       "      <td>$37.9B</td>\n",
       "      <td>$227.8B</td>\n",
       "      <td>75,000</td>\n",
       "      <td>Halsey Minor, Larry Ellison</td>\n",
       "      <td>Sales Cloud, Service Cloud</td>\n",
       "      <td>4.3</td>\n",
       "    </tr>\n",
       "    <tr>\n",
       "      <th>2</th>\n",
       "      <td>Adobe</td>\n",
       "      <td>1982</td>\n",
       "      <td>San Jose, CA, USA</td>\n",
       "      <td>Creative Software</td>\n",
       "      <td>$2.5M</td>\n",
       "      <td>$19.4B</td>\n",
       "      <td>$240B</td>\n",
       "      <td>29,945</td>\n",
       "      <td>Hambrecht &amp; Quist</td>\n",
       "      <td>Creative Cloud, Document Cloud</td>\n",
       "      <td>4.5</td>\n",
       "    </tr>\n",
       "    <tr>\n",
       "      <th>3</th>\n",
       "      <td>Oracle</td>\n",
       "      <td>1977</td>\n",
       "      <td>Austin, TX, USA</td>\n",
       "      <td>Database &amp; Enterprise</td>\n",
       "      <td>$2K</td>\n",
       "      <td>$52.9B</td>\n",
       "      <td>$350B</td>\n",
       "      <td>143,000</td>\n",
       "      <td>Larry Ellison, Bob Miner</td>\n",
       "      <td>Oracle Cloud, NetSuite</td>\n",
       "      <td>4.0</td>\n",
       "    </tr>\n",
       "    <tr>\n",
       "      <th>4</th>\n",
       "      <td>SAP</td>\n",
       "      <td>1972</td>\n",
       "      <td>Walldorf, Germany</td>\n",
       "      <td>Enterprise Software</td>\n",
       "      <td>NaN</td>\n",
       "      <td>$32.5B</td>\n",
       "      <td>$215B</td>\n",
       "      <td>107,415</td>\n",
       "      <td>Dietmar Hopp, Klaus Tschira</td>\n",
       "      <td>S/4HANA, SuccessFactors</td>\n",
       "      <td>4.1</td>\n",
       "    </tr>\n",
       "  </tbody>\n",
       "</table>\n",
       "</div>"
      ],
      "text/plain": [
       "  Company Name  Founded Year                      HQ               Industry  \\\n",
       "0    Microsoft          1975        Redmond, WA, USA    Enterprise Software   \n",
       "1   Salesforce          1999  San Francisco, CA, USA                    CRM   \n",
       "2        Adobe          1982       San Jose, CA, USA      Creative Software   \n",
       "3       Oracle          1977         Austin, TX, USA  Database & Enterprise   \n",
       "4          SAP          1972       Walldorf, Germany    Enterprise Software   \n",
       "\n",
       "  Total Funding     ARR Valuation Employees                Top Investors  \\\n",
       "0           $1B   $270B       $3T   221,000       Bill Gates, Paul Allen   \n",
       "1        $65.4M  $37.9B   $227.8B    75,000  Halsey Minor, Larry Ellison   \n",
       "2         $2.5M  $19.4B     $240B    29,945            Hambrecht & Quist   \n",
       "3           $2K  $52.9B     $350B   143,000     Larry Ellison, Bob Miner   \n",
       "4           NaN  $32.5B     $215B   107,415  Dietmar Hopp, Klaus Tschira   \n",
       "\n",
       "                          Product  G2 Rating  \n",
       "0        Azure, Office 365, Teams        4.4  \n",
       "1      Sales Cloud, Service Cloud        4.3  \n",
       "2  Creative Cloud, Document Cloud        4.5  \n",
       "3          Oracle Cloud, NetSuite        4.0  \n",
       "4         S/4HANA, SuccessFactors        4.1  "
      ]
     },
     "execution_count": 7,
     "metadata": {},
     "output_type": "execute_result"
    }
   ],
   "source": [
    "# Lendo o CSV\n",
    "df = pd.read_csv('../data/raw/top_100_saas_companies_2025.csv')\n",
    "\n",
    "# Mostra as 5 primeiras linhas\n",
    "df.head()"
   ]
  },
  {
   "cell_type": "code",
   "execution_count": 8,
   "id": "184d39c8-aa21-464d-ba19-4ccd5d10de5d",
   "metadata": {},
   "outputs": [
    {
     "name": "stdout",
     "output_type": "stream",
     "text": [
      "<class 'pandas.core.frame.DataFrame'>\n",
      "RangeIndex: 100 entries, 0 to 99\n",
      "Data columns (total 11 columns):\n",
      " #   Column         Non-Null Count  Dtype  \n",
      "---  ------         --------------  -----  \n",
      " 0   Company Name   100 non-null    object \n",
      " 1   Founded Year   100 non-null    int64  \n",
      " 2   HQ             100 non-null    object \n",
      " 3   Industry       100 non-null    object \n",
      " 4   Total Funding  99 non-null     object \n",
      " 5   ARR            100 non-null    object \n",
      " 6   Valuation      100 non-null    object \n",
      " 7   Employees      100 non-null    object \n",
      " 8   Top Investors  100 non-null    object \n",
      " 9   Product        100 non-null    object \n",
      " 10  G2 Rating      100 non-null    float64\n",
      "dtypes: float64(1), int64(1), object(9)\n",
      "memory usage: 8.7+ KB\n"
     ]
    }
   ],
   "source": [
    "df.info()\n"
   ]
  },
  {
   "cell_type": "code",
   "execution_count": 9,
   "id": "42e6bb6b-eed6-4058-adbe-119d6952c8a0",
   "metadata": {},
   "outputs": [
    {
     "data": {
      "text/plain": [
       "Company Name     0\n",
       "Founded Year     0\n",
       "HQ               0\n",
       "Industry         0\n",
       "Total Funding    1\n",
       "ARR              0\n",
       "Valuation        0\n",
       "Employees        0\n",
       "Top Investors    0\n",
       "Product          0\n",
       "G2 Rating        0\n",
       "dtype: int64"
      ]
     },
     "execution_count": 9,
     "metadata": {},
     "output_type": "execute_result"
    }
   ],
   "source": [
    "df.isnull().sum()\n"
   ]
  },
  {
   "cell_type": "code",
   "execution_count": 10,
   "id": "3b2e2723-1a0e-492e-90c9-891acde7c32f",
   "metadata": {},
   "outputs": [
    {
     "data": {
      "text/html": [
       "<div>\n",
       "<style scoped>\n",
       "    .dataframe tbody tr th:only-of-type {\n",
       "        vertical-align: middle;\n",
       "    }\n",
       "\n",
       "    .dataframe tbody tr th {\n",
       "        vertical-align: top;\n",
       "    }\n",
       "\n",
       "    .dataframe thead th {\n",
       "        text-align: right;\n",
       "    }\n",
       "</style>\n",
       "<table border=\"1\" class=\"dataframe\">\n",
       "  <thead>\n",
       "    <tr style=\"text-align: right;\">\n",
       "      <th></th>\n",
       "      <th>Total Funding</th>\n",
       "      <th>ARR</th>\n",
       "      <th>Valuation</th>\n",
       "      <th>Employees</th>\n",
       "    </tr>\n",
       "  </thead>\n",
       "  <tbody>\n",
       "    <tr>\n",
       "      <th>0</th>\n",
       "      <td>$1B</td>\n",
       "      <td>$270B</td>\n",
       "      <td>$3T</td>\n",
       "      <td>221,000</td>\n",
       "    </tr>\n",
       "    <tr>\n",
       "      <th>1</th>\n",
       "      <td>$65.4M</td>\n",
       "      <td>$37.9B</td>\n",
       "      <td>$227.8B</td>\n",
       "      <td>75,000</td>\n",
       "    </tr>\n",
       "    <tr>\n",
       "      <th>2</th>\n",
       "      <td>$2.5M</td>\n",
       "      <td>$19.4B</td>\n",
       "      <td>$240B</td>\n",
       "      <td>29,945</td>\n",
       "    </tr>\n",
       "    <tr>\n",
       "      <th>3</th>\n",
       "      <td>$2K</td>\n",
       "      <td>$52.9B</td>\n",
       "      <td>$350B</td>\n",
       "      <td>143,000</td>\n",
       "    </tr>\n",
       "    <tr>\n",
       "      <th>4</th>\n",
       "      <td>NaN</td>\n",
       "      <td>$32.5B</td>\n",
       "      <td>$215B</td>\n",
       "      <td>107,415</td>\n",
       "    </tr>\n",
       "    <tr>\n",
       "      <th>5</th>\n",
       "      <td>$273M</td>\n",
       "      <td>$14.4B</td>\n",
       "      <td>$180B</td>\n",
       "      <td>18,200</td>\n",
       "    </tr>\n",
       "    <tr>\n",
       "      <th>6</th>\n",
       "      <td>$82.5M</td>\n",
       "      <td>$8.9B</td>\n",
       "      <td>$147B</td>\n",
       "      <td>20,000</td>\n",
       "    </tr>\n",
       "    <tr>\n",
       "      <th>7</th>\n",
       "      <td>$249.9M</td>\n",
       "      <td>$7.3B</td>\n",
       "      <td>$65B</td>\n",
       "      <td>18,800</td>\n",
       "    </tr>\n",
       "    <tr>\n",
       "      <th>8</th>\n",
       "      <td>$145.5M</td>\n",
       "      <td>$4.5B</td>\n",
       "      <td>$85B</td>\n",
       "      <td>7,388</td>\n",
       "    </tr>\n",
       "    <tr>\n",
       "      <th>9</th>\n",
       "      <td>$122.3M</td>\n",
       "      <td>$7.1B</td>\n",
       "      <td>$95B</td>\n",
       "      <td>11,600</td>\n",
       "    </tr>\n",
       "  </tbody>\n",
       "</table>\n",
       "</div>"
      ],
      "text/plain": [
       "  Total Funding     ARR Valuation Employees\n",
       "0           $1B   $270B       $3T   221,000\n",
       "1        $65.4M  $37.9B   $227.8B    75,000\n",
       "2         $2.5M  $19.4B     $240B    29,945\n",
       "3           $2K  $52.9B     $350B   143,000\n",
       "4           NaN  $32.5B     $215B   107,415\n",
       "5         $273M  $14.4B     $180B    18,200\n",
       "6        $82.5M   $8.9B     $147B    20,000\n",
       "7       $249.9M   $7.3B      $65B    18,800\n",
       "8       $145.5M   $4.5B      $85B     7,388\n",
       "9       $122.3M   $7.1B      $95B    11,600"
      ]
     },
     "execution_count": 10,
     "metadata": {},
     "output_type": "execute_result"
    }
   ],
   "source": [
    "df[['Total Funding', 'ARR', 'Valuation', 'Employees']].head(10)\n"
   ]
  },
  {
   "cell_type": "code",
   "execution_count": 11,
   "id": "51344198-31bc-41aa-817a-3a1bc144bda7",
   "metadata": {},
   "outputs": [],
   "source": [
    "df['Total Funding'] = df['Total Funding'].apply(convert_money)\n",
    "df['ARR'] = df['ARR'].apply(convert_money)\n",
    "df['Valuation'] = df['Valuation'].apply(convert_money)\n",
    "df['Employees'] = df['Employees'].apply(convert_employees)\n"
   ]
  },
  {
   "cell_type": "code",
   "execution_count": 12,
   "id": "8a901f24-a7bd-41b1-8057-8e6edad20ef2",
   "metadata": {},
   "outputs": [
    {
     "data": {
      "text/plain": [
       "Company Name      object\n",
       "Founded Year       int64\n",
       "HQ                object\n",
       "Industry          object\n",
       "Total Funding    float64\n",
       "ARR              float64\n",
       "Valuation        float64\n",
       "Employees          int64\n",
       "Top Investors     object\n",
       "Product           object\n",
       "G2 Rating        float64\n",
       "dtype: object"
      ]
     },
     "execution_count": 12,
     "metadata": {},
     "output_type": "execute_result"
    }
   ],
   "source": [
    "df.dtypes"
   ]
  },
  {
   "cell_type": "code",
   "execution_count": 14,
   "id": "97d3c0a1-d450-4e0b-922f-999b6f23d6dc",
   "metadata": {},
   "outputs": [
    {
     "name": "stdout",
     "output_type": "stream",
     "text": [
      "CSV limpo salvo em data/processed.\n"
     ]
    }
   ],
   "source": [
    "df.to_csv('../data/processed/saas_companies_clean.csv', index=False)\n",
    "print(\"CSV limpo salvo em data/processed.\")\n"
   ]
  }
 ],
 "metadata": {
  "kernelspec": {
   "display_name": "Python 3 (ipykernel)",
   "language": "python",
   "name": "python3"
  },
  "language_info": {
   "codemirror_mode": {
    "name": "ipython",
    "version": 3
   },
   "file_extension": ".py",
   "mimetype": "text/x-python",
   "name": "python",
   "nbconvert_exporter": "python",
   "pygments_lexer": "ipython3",
   "version": "3.10.6"
  }
 },
 "nbformat": 4,
 "nbformat_minor": 5
}
